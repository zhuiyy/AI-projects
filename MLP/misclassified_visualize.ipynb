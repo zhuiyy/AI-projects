{
 "cells": [
  {
   "cell_type": "code",
   "execution_count": null,
   "metadata": {},
   "outputs": [
    {
     "data": {
      "application/vnd.jupyter.widget-view+json": {
       "model_id": "ada791db751f41e0899160aa6dde4c57",
       "version_major": 2,
       "version_minor": 0
      },
      "text/plain": [
       "interactive(children=(IntSlider(value=0, description='Error Index', layout=Layout(width='1000px'), max=260, st…"
      ]
     },
     "metadata": {},
     "output_type": "display_data"
    },
    {
     "data": {
      "text/plain": [
       "<function __main__.visualize_digit(error_index)>"
      ]
     },
     "execution_count": 3,
     "metadata": {},
     "output_type": "execute_result"
    }
   ],
   "source": [
    "# -*-coding:utf-8-*-\n",
    "'''\n",
    "@ author: Deepseek\n",
    "'''\n",
    "\n",
    "import numpy as np\n",
    "import matplotlib.pyplot as plt\n",
    "from ipywidgets import interact, IntSlider\n",
    "from MLP import MLP\n",
    "from tensorflow.keras.datasets import mnist\n",
    "\n",
    "# 加载数据和模型\n",
    "(x_train, y_train), (x_test, y_test) = mnist.load_data()\n",
    "mlp = MLP(784, 10, [128, 64], ['relu', 'relu', 'linear', 'softmax'])\n",
    "mlp.load('mlp_model.npz')\n",
    "x_test_flattened = x_test.reshape(-1, 784) / 255.0\n",
    "\n",
    "# 预计算错误样本\n",
    "errors = []\n",
    "for i in range(len(x_test)):\n",
    "    prob = mlp.forward(x_test_flattened[i:i+1])[0]\n",
    "    if np.argmax(prob) != y_test[i]:\n",
    "        errors.append(i)\n",
    "errors = np.array(errors)\n",
    "\n",
    "def visualize_digit(error_index):\n",
    "    actual_index = errors[error_index]\n",
    "    img = x_test[actual_index]\n",
    "    y_pred = mlp.forward(x_test_flattened[actual_index:actual_index+1])[0]\n",
    "    true_label = y_test[actual_index]\n",
    "    pred_label = np.argmax(y_pred)\n",
    "\n",
    "    fig, axs = plt.subplots(1, 2, figsize=(14, 5))\n",
    "\n",
    "    # 图像展示\n",
    "    axs[0].imshow(img, cmap='gray')\n",
    "    axs[0].axis('off')\n",
    "    title = f'Misclassified Digit (True: {true_label}, Pred: {pred_label})'\n",
    "    axs[0].set_title(title, fontsize=14, color='red')\n",
    "\n",
    "    # 概率柱状图\n",
    "    classes = np.arange(10)\n",
    "    colors = ['#1f77b4' if c != true_label else '#ff7f0e' for c in classes]\n",
    "    bars = axs[1].bar(classes, y_pred*100, color=colors)\n",
    "    axs[1].set_xticks(classes)\n",
    "    axs[1].set_xlabel('Class', fontsize=12)\n",
    "    axs[1].set_ylabel('Probability (%)', fontsize=12)\n",
    "    axs[1].set_ylim(0, 100)\n",
    "\n",
    "    # 添加标注和星号\n",
    "    for i, (prob, bar) in enumerate(zip(y_pred*100, bars)):\n",
    "        axs[1].text(i, prob + 2, f'{prob:.1f}%',\n",
    "                   ha='center', va='bottom', fontsize=10)\n",
    "        if i == true_label:\n",
    "            axs[1].text(i, prob + 8, '★',\n",
    "                       ha='center', va='bottom', color='red', fontsize=20)\n",
    "\n",
    "    plt.tight_layout()\n",
    "    plt.show()\n",
    "\n",
    "# 创建带长滑动条的交互\n",
    "interact(visualize_digit,\n",
    "         error_index=IntSlider(min=0,\n",
    "                               max=len(errors)-1,\n",
    "                               step=1,\n",
    "                               value=0,\n",
    "                               description='Error Index',\n",
    "                               layout={'width': '1000px'},\n",
    "                               style={'description_width': 'initial'}))"
   ]
  }
 ],
 "metadata": {
  "kernelspec": {
   "display_name": "ai_base",
   "language": "python",
   "name": "python3"
  },
  "language_info": {
   "codemirror_mode": {
    "name": "ipython",
    "version": 3
   },
   "file_extension": ".py",
   "mimetype": "text/x-python",
   "name": "python",
   "nbconvert_exporter": "python",
   "pygments_lexer": "ipython3",
   "version": "3.9.21"
  }
 },
 "nbformat": 4,
 "nbformat_minor": 2
}
