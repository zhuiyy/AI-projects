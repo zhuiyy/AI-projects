{
 "cells": [
  {
   "cell_type": "code",
   "execution_count": null,
   "metadata": {},
   "outputs": [
    {
     "name": "stderr",
     "output_type": "stream",
     "text": [
      "Matplotlib is building the font cache; this may take a moment.\n",
      "2025-03-14 00:09:29.146798: I tensorflow/tsl/cuda/cudart_stub.cc:28] Could not find cuda drivers on your machine, GPU will not be used.\n",
      "2025-03-14 00:09:29.199189: I tensorflow/tsl/cuda/cudart_stub.cc:28] Could not find cuda drivers on your machine, GPU will not be used.\n",
      "2025-03-14 00:09:29.200379: I tensorflow/core/platform/cpu_feature_guard.cc:182] This TensorFlow binary is optimized to use available CPU instructions in performance-critical operations.\n",
      "To enable the following instructions: AVX2 FMA, in other operations, rebuild TensorFlow with the appropriate compiler flags.\n",
      "2025-03-14 00:09:30.354997: W tensorflow/compiler/tf2tensorrt/utils/py_utils.cc:38] TF-TRT Warning: Could not find TensorRT\n"
     ]
    },
    {
     "data": {
      "application/vnd.jupyter.widget-view+json": {
       "model_id": "afc8ac07587d481a8143668344529b5c",
       "version_major": 2,
       "version_minor": 0
      },
      "text/plain": [
       "interactive(children=(IntSlider(value=4999, description='index', max=9999), Output()), _dom_classes=('widget-i…"
      ]
     },
     "metadata": {},
     "output_type": "display_data"
    },
    {
     "data": {
      "text/plain": [
       "<function __main__.visualize_digit(index)>"
      ]
     },
     "execution_count": 1,
     "metadata": {},
     "output_type": "execute_result"
    }
   ],
   "source": [
    "import numpy as np\n",
    "import matplotlib.pyplot as plt\n",
    "from ipywidgets import interact\n",
    "from MLP import MLP\n",
    "from tensorflow.keras.datasets import mnist\n",
    "\n",
    "(x_train, y_train), (x_test, y_test) = mnist.load_data()\n",
    "\n",
    "mlp = MLP(784, 10, [128, 64], [\"relu\", \"relu\", \"linear\", \"softmax\"])\n",
    "mlp.load(\"mlp_model.npz\")\n",
    "\n",
    "x_test_flattened = x_test.reshape(-1, 784) / 255.0\n",
    "\n",
    "\n",
    "def visualize_digit(index):\n",
    "    img = x_test[index]\n",
    "    y_pred = mlp.forward(x_test_flattened[index : index + 1])[0]\n",
    "\n",
    "    fig, axs = plt.subplots(1, 2, figsize=(12, 4))\n",
    "\n",
    "    axs[0].imshow(img, cmap=\"gray\")\n",
    "    axs[0].axis(\"off\")\n",
    "    axs[0].set_title(f\"MNIST Digit (Index {index})\", fontsize=14)\n",
    "\n",
    "    classes = np.arange(10)\n",
    "    bar_colors = plt.cm.viridis(y_pred)\n",
    "    axs[1].bar(classes, y_pred * 100, color=bar_colors)\n",
    "    axs[1].set_xticks(classes)\n",
    "    axs[1].set_xlabel(\"Class\", fontsize=12)\n",
    "    axs[1].set_ylabel(\"Probability (%)\", fontsize=12)\n",
    "    axs[1].set_title(\"Predicted Probabilities\", fontsize=14)\n",
    "    axs[1].set_ylim(0, 100)\n",
    "\n",
    "    for i, prob in enumerate(y_pred * 100):\n",
    "        axs[1].text(i, prob + 2, f\"{prob:.1f}%\", ha=\"center\", va=\"bottom\", fontsize=10)\n",
    "\n",
    "    plt.tight_layout()\n",
    "    plt.show()\n",
    "\n",
    "\n",
    "interact(visualize_digit, index=(0, len(x_test) - 1))\n"
   ]
  }
 ],
 "metadata": {
  "kernelspec": {
   "display_name": "ai_base",
   "language": "python",
   "name": "python3"
  },
  "language_info": {
   "codemirror_mode": {
    "name": "ipython",
    "version": 3
   },
   "file_extension": ".py",
   "mimetype": "text/x-python",
   "name": "python",
   "nbconvert_exporter": "python",
   "pygments_lexer": "ipython3",
   "version": "3.9.21"
  }
 },
 "nbformat": 4,
 "nbformat_minor": 2
}
