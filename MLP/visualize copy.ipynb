{
 "cells": [
  {
   "cell_type": "code",
   "execution_count": null,
   "metadata": {},
   "outputs": [
    {
     "name": "stderr",
     "output_type": "stream",
     "text": [
      "2025-03-18 22:17:07.199105: I tensorflow/tsl/cuda/cudart_stub.cc:28] Could not find cuda drivers on your machine, GPU will not be used.\n",
      "2025-03-18 22:17:07.261261: I tensorflow/tsl/cuda/cudart_stub.cc:28] Could not find cuda drivers on your machine, GPU will not be used.\n",
      "2025-03-18 22:17:07.262021: I tensorflow/core/platform/cpu_feature_guard.cc:182] This TensorFlow binary is optimized to use available CPU instructions in performance-critical operations.\n",
      "To enable the following instructions: AVX2 FMA, in other operations, rebuild TensorFlow with the appropriate compiler flags.\n",
      "2025-03-18 22:17:08.613337: W tensorflow/compiler/tf2tensorrt/utils/py_utils.cc:38] TF-TRT Warning: Could not find TensorRT\n"
     ]
    },
    {
     "data": {
      "application/vnd.jupyter.widget-view+json": {
       "model_id": "1f4501003f874d14be2788703d24d1bc",
       "version_major": 2,
       "version_minor": 0
      },
      "text/plain": [
       "interactive(children=(IntSlider(value=0, description='Sample Index:', layout=Layout(width='1000px'), max=9999,…"
      ]
     },
     "metadata": {},
     "output_type": "display_data"
    },
    {
     "data": {
      "text/plain": [
       "<function __main__.visualize_digit(index)>"
      ]
     },
     "execution_count": 1,
     "metadata": {},
     "output_type": "execute_result"
    }
   ],
   "source": [
    "# -*-coding:utf-8-*-\n",
    "'''\n",
    "@ author: Deepseek\n",
    "'''\n",
    "\n",
    "import numpy as np\n",
    "import matplotlib.pyplot as plt\n",
    "from ipywidgets import interact, IntSlider\n",
    "from MLP import MLP\n",
    "from tensorflow.keras.datasets import mnist\n",
    "\n",
    "# 加载数据和模型\n",
    "(x_train, y_train), (x_test, y_test) = mnist.load_data()\n",
    "mlp = MLP(784, 10, [128, 64], ['relu', 'relu', 'linear', 'softmax'])\n",
    "mlp.load('mlp_model.npz')\n",
    "x_test_flattened = x_test.reshape(-1, 784) / 255.0\n",
    "\n",
    "def visualize_digit(index):\n",
    "    img = x_test[index]\n",
    "    y_pred = mlp.forward(x_test_flattened[index:index+1])[0]\n",
    "    true_label = y_test[index]\n",
    "    pred_label = np.argmax(y_pred)\n",
    "\n",
    "    fig, axs = plt.subplots(1, 2, figsize=(14, 5))\n",
    "\n",
    "    # 图像展示\n",
    "    axs[0].imshow(img, cmap='gray')\n",
    "    axs[0].axis('off')\n",
    "    title_color = 'green' if pred_label == true_label else 'red'\n",
    "    title = f'Digit Index: {index}\\nTrue: {true_label} | Pred: {pred_label}'\n",
    "    axs[0].set_title(title, fontsize=14, color=title_color)\n",
    "\n",
    "    # 概率柱状图\n",
    "    classes = np.arange(10)\n",
    "    colors = ['#1f77b4' if c != true_label else '#ff7f0e' for c in classes]\n",
    "    bars = axs[1].bar(classes, y_pred*100, color=colors)\n",
    "\n",
    "    axs[1].set_xticks(classes)\n",
    "    axs[1].set_xlabel('Class', fontsize=12)\n",
    "    axs[1].set_ylabel('Probability (%)', fontsize=12)\n",
    "    axs[1].set_title('Prediction Distribution (★ = True Class)', fontsize=14)\n",
    "    axs[1].set_ylim(0, 100)\n",
    "\n",
    "    # 添加概率值和星号标注\n",
    "    for i, (prob, bar) in enumerate(zip(y_pred*100, bars)):\n",
    "        axs[1].text(i, prob + 2, f'{prob:.1f}%',\n",
    "                   ha='center', va='bottom', fontsize=10)\n",
    "        if i == true_label:\n",
    "            axs[1].text(i, prob + 8, '★',\n",
    "                       ha='center', va='bottom',\n",
    "                       color='red', fontsize=20)\n",
    "\n",
    "    plt.tight_layout()\n",
    "    plt.show()\n",
    "\n",
    "# 创建带长滑动条的交互\n",
    "interact(visualize_digit,\n",
    "         index=IntSlider(min=0,\n",
    "                        max=len(x_test)-1,\n",
    "                        step=1,\n",
    "                        value=0,\n",
    "                        description='Sample Index:',\n",
    "                        layout={'width': '1000px'},\n",
    "                        style={'description_width': 'initial'}))"
   ]
  }
 ],
 "metadata": {
  "kernelspec": {
   "display_name": "ai_base",
   "language": "python",
   "name": "python3"
  },
  "language_info": {
   "codemirror_mode": {
    "name": "ipython",
    "version": 3
   },
   "file_extension": ".py",
   "mimetype": "text/x-python",
   "name": "python",
   "nbconvert_exporter": "python",
   "pygments_lexer": "ipython3",
   "version": "3.9.21"
  }
 },
 "nbformat": 4,
 "nbformat_minor": 2
}
